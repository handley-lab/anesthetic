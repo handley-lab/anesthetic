{
 "cells": [
  {
   "cell_type": "markdown",
   "metadata": {
    "isInteractiveWindowMessageCell": true
   },
   "source": [
    "Connected to myenv (Python 3.8.5)"
   ]
  },
  {
   "cell_type": "code",
   "execution_count": 1,
   "metadata": {},
   "outputs": [],
   "source": [
    "from anesthetic.samples import Samples"
   ]
  },
  {
   "cell_type": "code",
   "execution_count": 2,
   "metadata": {},
   "outputs": [],
   "source": [
    "nsamplees = 1000\n",
    "Beta = 1\n",
    "def tension_stats(A,B,AB,nsamples):\n",
    "    A.stats(nsamples)\n",
    "    B.stats(nsamples)\n",
    "    AB.stats(nsamples)\n",
    "    # Create a new sample\n",
    "    samples = Samples(index=A.index)\n",
    "    #samples.['logR']"
   ]
  },
  {
   "cell_type": "code",
   "execution_count": 3,
   "metadata": {},
   "outputs": [],
   "source": [
    "nsamplees = 1000\n",
    "Beta = 1\n",
    "def tension_stats(A,B,AB,nsamples):\n",
    "    A.stats(nsamples)\n",
    "    B.stats(nsamples)\n",
    "    AB.stats(nsamples)\n",
    "    # Create a new sample\n",
    "    samples = Samples(index=A.index)\n",
    "    return samples\n",
    "    #samples.['logR']"
   ]
  },
  {
   "cell_type": "code",
   "execution_count": 4,
   "metadata": {},
   "outputs": [
    {
     "ename": "NameError",
     "evalue": "name 'samples' is not defined",
     "output_type": "error",
     "traceback": [
      "\u001b[0;31m---------------------------------------------------------------------------\u001b[0m",
      "\u001b[0;31mNameError\u001b[0m                                 Traceback (most recent call last)",
      "Cell \u001b[0;32mIn[4], line 1\u001b[0m\n\u001b[0;32m----> 1\u001b[0m samples\n",
      "\u001b[0;31mNameError\u001b[0m: name 'samples' is not defined"
     ]
    }
   ],
   "source": [
    "samples"
   ]
  }
 ],
 "metadata": {
  "kernelspec": {
   "display_name": "myenv",
   "language": "python",
   "name": "python3"
  },
  "language_info": {
   "codemirror_mode": {
    "name": "ipython",
    "version": 3
   },
   "file_extension": ".py",
   "mimetype": "text/x-python",
   "name": "python",
   "nbconvert_exporter": "python",
   "pygments_lexer": "ipython3",
   "version": "3.8.5"
  }
 },
 "nbformat": 4,
 "nbformat_minor": 2
}
