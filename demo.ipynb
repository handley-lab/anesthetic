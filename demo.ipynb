{
 "cells": [
  {
   "cell_type": "markdown",
   "metadata": {},
   "source": [
    "# anesthetic plot gallery\n",
    " This functions as both some examples of plots that can be produced, and a tutorial.\n",
    " Any difficulties/issues/requests should be posted as a [GitHub issue](https://github.com/williamjameshandley/anesthetic/issues)"
   ]
  },
  {
   "cell_type": "markdown",
   "metadata": {},
   "source": [
    "## Download example data\n",
    " Download some example data from github (or alternatively use your own chains files)\n",
    "\n",
    " This downloads the PLA chains for the planck baseline cosmology,\n",
    " and the equivalent nested sampling chains:"
   ]
  },
  {
   "cell_type": "code",
   "execution_count": null,
   "metadata": {},
   "outputs": [],
   "source": [
    "import requests\n",
    "import tarfile\n",
    "\n",
    "for filename in [\"plikHM_TTTEEE_lowl_lowE_lensing.tar.gz\",\"plikHM_TTTEEE_lowl_lowE_lensing_NS.tar.gz\"]:\n",
    "    github_url = \"https://github.com/williamjameshandley/cosmo_example/raw/master/\"\n",
    "    url = github_url + filename\n",
    "    open(filename, 'wb').write(requests.get(url).content)\n",
    "    tarfile.open(filename).extractall()"
   ]
  },
  {
   "cell_type": "markdown",
   "metadata": {},
   "source": [
    "## Marginalised posterior plotting\n",
    " Import anesthetic and load the MCMC samples:"
   ]
  },
  {
   "cell_type": "code",
   "execution_count": null,
   "metadata": {},
   "outputs": [],
   "source": [
    "%matplotlib inline\n",
    "from anesthetic import MCMCSamples\n",
    "mcmc_root = 'plikHM_TTTEEE_lowl_lowE_lensing/base_plikHM_TTTEEE_lowl_lowE_lensing'\n",
    "mcmc = MCMCSamples(root=mcmc_root)"
   ]
  },
  {
   "cell_type": "markdown",
   "metadata": {},
   "source": [
    "We have plotting tools for 1D plots ..."
   ]
  },
  {
   "cell_type": "code",
   "execution_count": null,
   "metadata": {},
   "outputs": [],
   "source": [
    "fig, axes = mcmc.plot_1d('omegabh2') ;"
   ]
  },
  {
   "cell_type": "markdown",
   "metadata": {},
   "source": [
    "... multiple 1D plots ..."
   ]
  },
  {
   "cell_type": "code",
   "execution_count": null,
   "metadata": {},
   "outputs": [],
   "source": [
    "fig, axes = mcmc.plot_1d(['omegabh2','omegach2','H0','tau','logA','ns']);\n",
    "fig.tight_layout()"
   ]
  },
  {
   "cell_type": "markdown",
   "metadata": {},
   "source": [
    "... triangle plots ..."
   ]
  },
  {
   "cell_type": "code",
   "execution_count": null,
   "metadata": {},
   "outputs": [],
   "source": [
    "mcmc.plot_2d(['omegabh2','omegach2','H0'], types={'lower':'kde','diagonal':'kde'});"
   ]
  },
  {
   "cell_type": "markdown",
   "metadata": {},
   "source": [
    "... triangle plots (with the equivalent scatter plot filling up the left hand side) ..."
   ]
  },
  {
   "cell_type": "code",
   "execution_count": null,
   "metadata": {},
   "outputs": [],
   "source": [
    "mcmc.plot_2d(['omegabh2','omegach2','H0']);"
   ]
  },
  {
   "cell_type": "markdown",
   "metadata": {},
   "source": [
    "... and rectangle plots."
   ]
  },
  {
   "cell_type": "code",
   "execution_count": null,
   "metadata": {},
   "outputs": [],
   "source": [
    "mcmc.plot_2d([['omegabh2','omegach2','H0'], ['logA', 'ns']]);"
   ]
  },
  {
   "cell_type": "markdown",
   "metadata": {},
   "source": [
    "Rectangle plots are pretty flexible with what they can do:"
   ]
  },
  {
   "cell_type": "code",
   "execution_count": null,
   "metadata": {},
   "outputs": [],
   "source": [
    "mcmc.plot_2d([['omegabh2','omegach2','H0'], ['H0','omegach2']]);"
   ]
  },
  {
   "cell_type": "markdown",
   "metadata": {},
   "source": [
    "## Defining new parameters\n",
    "\n",
    " You can see that samples are stored as a pandas array"
   ]
  },
  {
   "cell_type": "code",
   "execution_count": null,
   "metadata": {},
   "outputs": [],
   "source": [
    "mcmc[:6]"
   ]
  },
  {
   "cell_type": "markdown",
   "metadata": {},
   "source": [
    "Since it's a (weighted) pandas array, we compute things like the mean and variance \n",
    " of samples"
   ]
  },
  {
   "cell_type": "code",
   "execution_count": null,
   "metadata": {},
   "outputs": [],
   "source": [
    "mcmc.mean()"
   ]
  },
  {
   "cell_type": "markdown",
   "metadata": {},
   "source": [
    "We can define new parameters with relative ease.\n",
    " For example, the default cosmoMC setup does not include omegab, only omegabh2:"
   ]
  },
  {
   "cell_type": "code",
   "execution_count": null,
   "metadata": {},
   "outputs": [],
   "source": [
    "'omegab' in mcmc"
   ]
  },
  {
   "cell_type": "markdown",
   "metadata": {},
   "source": [
    "However, this is pretty trivial to recompute:"
   ]
  },
  {
   "cell_type": "code",
   "execution_count": null,
   "metadata": {},
   "outputs": [],
   "source": [
    "h = mcmc['H0']/100\n",
    "mcmc['omegab'] = mcmc['omegabh2']/h**2\n",
    "mcmc.tex['omegab'] = '$\\Omega_b$'\n",
    "mcmc.plot_1d('omegab');"
   ]
  },
  {
   "cell_type": "markdown",
   "metadata": {},
   "source": [
    "## Nested sampling plotting\n",
    " Anethestic really comes to the fore for nested sampling. We can do all of\n",
    " the above, and more with the power that NS chains provide"
   ]
  },
  {
   "cell_type": "code",
   "execution_count": null,
   "metadata": {},
   "outputs": [],
   "source": [
    "from anesthetic import NestedSamples\n",
    "nested_root = 'plikHM_TTTEEE_lowl_lowE_lensing_NS/NS_plikHM_TTTEEE_lowl_lowE_lensing'\n",
    "nested = NestedSamples(root=nested_root)"
   ]
  },
  {
   "cell_type": "markdown",
   "metadata": {},
   "source": [
    "We can infer the evidence, KL divergence and Bayesian model dimensionality:"
   ]
  },
  {
   "cell_type": "code",
   "execution_count": null,
   "metadata": {},
   "outputs": [],
   "source": [
    "ns_output = nested.ns_output()"
   ]
  },
  {
   "cell_type": "markdown",
   "metadata": {},
   "source": [
    "This is a set of ``MCMCSamples``, with columns yielding the log of the Bayesian evidence \n",
    " (logZ), the Kullback-Leibler divergence (D) and the Bayesian model dimensionality (d)."
   ]
  },
  {
   "cell_type": "code",
   "execution_count": null,
   "metadata": {},
   "outputs": [],
   "source": [
    "ns_output[:6]"
   ]
  },
  {
   "cell_type": "markdown",
   "metadata": {},
   "source": [
    "The evidence, KL divergence and Bayesian model dimensionality, with their corresponding errors, are:"
   ]
  },
  {
   "cell_type": "code",
   "execution_count": null,
   "metadata": {},
   "outputs": [],
   "source": [
    "for x in ns_output:\n",
    "    print('%10s = %9.2f +/- %4.2f' % (x, ns_output[x].mean(), ns_output[x].std()))"
   ]
  },
  {
   "cell_type": "markdown",
   "metadata": {},
   "source": [
    "Since ``ns_output`` is a set of ``MCMCSamples``, it may be plotted as usual. \n",
    " Here we illustrate slightly more fine-grained control of the axes construction \n",
    " (demanding three columns)"
   ]
  },
  {
   "cell_type": "code",
   "execution_count": null,
   "metadata": {},
   "outputs": [],
   "source": [
    "from anesthetic import make_1d_axes\n",
    "fig, axes = make_1d_axes(['logZ', 'D', 'd'], ncols=3, tex=ns_output.tex)\n",
    "ns_output.plot_1d(axes);"
   ]
  },
  {
   "cell_type": "markdown",
   "metadata": {},
   "source": [
    "We can also inspect the correlation between these inferences:"
   ]
  },
  {
   "cell_type": "code",
   "execution_count": null,
   "metadata": {},
   "outputs": [],
   "source": [
    "ns_output.plot_2d(['logZ','D']);"
   ]
  },
  {
   "cell_type": "markdown",
   "metadata": {},
   "source": [
    "Here is a comparison of the base and NS output"
   ]
  },
  {
   "cell_type": "code",
   "execution_count": null,
   "metadata": {},
   "outputs": [],
   "source": [
    "h = nested['H0']/100\n",
    "nested['omegab'] = nested['omegabh2']/h**2\n",
    "nested.tex['omegab'] = '$\\Omega_b$'\n",
    "\n",
    "fig, axes = mcmc.plot_2d(['sigma8','omegab'])\n",
    "nested.plot_2d(axes=axes);"
   ]
  },
  {
   "cell_type": "markdown",
   "metadata": {},
   "source": [
    "With nested samples, we can plot the prior (or any temperature), by\n",
    " passing beta=0. We also introduce here the helper function ``get_legend_proxy``\n",
    " for creating figure legends."
   ]
  },
  {
   "cell_type": "code",
   "execution_count": null,
   "metadata": {},
   "outputs": [],
   "source": [
    "prior = nested.set_beta(0)\n",
    "fig, axes = prior.plot_2d(['ns','tau'], label='prior')\n",
    "nested.plot_2d(axes=axes, label='posterior')\n",
    "handles, labels = axes['ns']['tau'].get_legend_handles_labels()\n",
    "leg = fig.legend(handles, labels)\n",
    "fig.tight_layout()"
   ]
  },
  {
   "cell_type": "markdown",
   "metadata": {},
   "source": [
    "We can also set up an interactive plot, which allows us to replay a nested\n",
    " sampling run after the fact."
   ]
  },
  {
   "cell_type": "code",
   "execution_count": null,
   "metadata": {},
   "outputs": [],
   "source": [
    "nested.gui()"
   ]
  },
  {
   "cell_type": "markdown",
   "metadata": {},
   "source": [
    "There are also tools for converting to alternative formats, in case you have\n",
    " pipelines in other plotters:"
   ]
  },
  {
   "cell_type": "code",
   "execution_count": null,
   "metadata": {},
   "outputs": [],
   "source": [
    "from anesthetic.convert import to_getdist\n",
    "getdist_samples = to_getdist(nested)"
   ]
  }
 ],
 "metadata": {},
 "nbformat": 4,
 "nbformat_minor": 4
}
